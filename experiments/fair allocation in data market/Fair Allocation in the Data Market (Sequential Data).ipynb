{
 "cells": [
  {
   "cell_type": "code",
   "execution_count": 1,
   "id": "0d1e6183",
   "metadata": {},
   "outputs": [],
   "source": [
    "import numpy as np\n",
    "import pandas as pd\n",
    "import pickle\n",
    "import time\n",
    "\n",
    "import time\n",
    "from KNN_Shapley import get_VN, get_true_KNN, compute_KNN_shapley, compute_KNN_Asymmetric_Shapley, KNN_LOO\n",
    "from performance_plot import removing_sequential_data, adding_sequential_data, final_plot"
   ]
  },
  {
   "cell_type": "code",
   "execution_count": 2,
   "id": "e44edbda",
   "metadata": {},
   "outputs": [],
   "source": [
    "# Load data\n",
    "m1, m2, m3, m4, m5 = 'jul', 'aug', 'sep', 'oct', 'nov'\n",
    "\n",
    "with open(\"data/traffic/traffic_volume.pickle\", \"rb\") as fp:  # Pickling\n",
    "    mydict = pickle.load(fp)\n",
    "\n",
    "X_m1_trn = mydict['X_{}_trn'.format(m1)]\n",
    "y_m1_trn = mydict['y_{}_trn'.format(m1)]\n",
    "X_m2_trn = mydict['X_{}_trn'.format(m2)]\n",
    "y_m2_trn = mydict['y_{}_trn'.format(m2)]\n",
    "X_m3_trn = mydict['X_{}_trn'.format(m3)]\n",
    "y_m3_trn = mydict['y_{}_trn'.format(m3)]\n",
    "\n",
    "X_m1m2_trn = mydict['X_{}_{}_trn'.format(m1, m2)]\n",
    "y_m1m2_trn = mydict['y_{}_{}_trn'.format(m1, m2)]\n",
    "X_m1m2_val = mydict['X_{}_{}_val'.format(m1, m2)]\n",
    "y_m1m2_val = mydict['y_{}_{}_val'.format(m1, m2)]\n",
    "\n",
    "X_m1m2m3_trn = mydict['X_{}_{}_{}_trn'.format(m1, m2, m3)]\n",
    "y_m1m2m3_trn = mydict['y_{}_{}_{}_trn'.format(m1, m2, m3)]\n",
    "X_m1m2m3_val = mydict['X_{}_{}_{}_val'.format(m1, m2, m3)]\n",
    "y_m1m2m3_val = mydict['y_{}_{}_{}_val'.format(m1, m2, m3)]\n",
    "\n",
    "s_class_dic = {0: np.asarray(range(len(X_m1_trn))), \n",
    "               1: np.asarray(range(len(X_m1_trn), len(X_m1m2_trn)))}\n",
    "K = 3"
   ]
  },
  {
   "cell_type": "markdown",
   "id": "f87f3aef",
   "metadata": {},
   "source": [
    "## Part. 3 Sequential Data Contributors\n",
    "\n",
    "We assume multiple data contributors contribute data sequentially in a data stream. Show how SV / ASV allocates values to data contributors.\n",
    "\n",
    "3.1 Train model with $D_t$. Compute SV and ASV.\n",
    "\n",
    "3.2 Train model with $D_t\\cup D_{t+1}$. Compute SV and ASV.\n",
    "\n",
    "3.3 Train model with $D_t\\cup D_{t+1}\\cup D_{t+2}$. Compute SV and ASV.\n",
    "\n",
    "3.3 Plot histograms for SV.\n",
    "\n",
    "3.4 Plot histograms for ASV."
   ]
  },
  {
   "cell_type": "markdown",
   "id": "bcb4a3fa",
   "metadata": {},
   "source": [
    "### 3.1"
   ]
  },
  {
   "cell_type": "code",
   "execution_count": 3,
   "id": "7ea336c4",
   "metadata": {},
   "outputs": [
    {
     "name": "stderr",
     "output_type": "stream",
     "text": [
      "100%|████████████████████████████████████████| 564/564 [00:00<00:00, 914.73it/s]\n"
     ]
    }
   ],
   "source": [
    "directory = 'experiments/fair allocation in data market/traffic/'\n",
    "X_train_1 = X_m1_trn\n",
    "y_train_1 = y_m1_trn\n",
    "X_val = X_m1m2m3_val\n",
    "y_val = y_m1m2m3_val\n",
    "\n",
    "# Train knn classifier\n",
    "X_train_knn_gt_1 = get_true_KNN(X_train_1, X_val) "
   ]
  },
  {
   "cell_type": "code",
   "execution_count": 4,
   "id": "6b799b0a",
   "metadata": {},
   "outputs": [
    {
     "name": "stderr",
     "output_type": "stream",
     "text": [
      "100%|████████████████████████████████████████| 564/564 [00:00<00:00, 808.52it/s]"
     ]
    },
    {
     "name": "stdout",
     "output_type": "stream",
     "text": [
      "Time to compute the exact symmetric shapley values for all data: 0.6992876529693604\n"
     ]
    },
    {
     "name": "stderr",
     "output_type": "stream",
     "text": [
      "\n"
     ]
    }
   ],
   "source": [
    "# Compute SV\n",
    "start = time.time()\n",
    "knn_shaps = compute_KNN_shapley(y_train_1, X_train_knn_gt_1, y_val, K)\n",
    "end = time.time()\n",
    "print(\"Time to compute the exact symmetric shapley values for all data:\", end - start)\n",
    "np.save(directory + 'm1_sv_K={}'.format(K), knn_shaps)"
   ]
  },
  {
   "cell_type": "code",
   "execution_count": 5,
   "id": "d21fa4ab",
   "metadata": {},
   "outputs": [
    {
     "name": "stderr",
     "output_type": "stream",
     "text": [
      "100%|████████████████████████████████████████| 564/564 [00:02<00:00, 233.23it/s]"
     ]
    },
    {
     "name": "stdout",
     "output_type": "stream",
     "text": [
      "Time to compute the exact asymmetric shapley values for all data: 2.419963836669922\n"
     ]
    },
    {
     "name": "stderr",
     "output_type": "stream",
     "text": [
      "\n"
     ]
    }
   ],
   "source": [
    "# Compute ASV\n",
    "s_class_dic = {0:np.asarray(range(len(X_train_1)))}\n",
    "\n",
    "start = time.time()\n",
    "knn_asym_shaps = compute_KNN_Asymmetric_Shapley(y_train_1, X_train_knn_gt_1, \n",
    "                                                y_val, K, s_class_dic)\n",
    "end = time.time()\n",
    "print(\"Time to compute the exact asymmetric shapley values for all data:\", end - start)\n",
    "np.save(directory + 'm1_asv_K={}'.format(K), knn_asym_shaps)"
   ]
  },
  {
   "cell_type": "markdown",
   "id": "d6c96d19",
   "metadata": {},
   "source": [
    "### 3.2"
   ]
  },
  {
   "cell_type": "code",
   "execution_count": 6,
   "id": "e3494b49",
   "metadata": {},
   "outputs": [
    {
     "name": "stderr",
     "output_type": "stream",
     "text": [
      "100%|████████████████████████████████████████| 564/564 [00:01<00:00, 484.53it/s]\n"
     ]
    }
   ],
   "source": [
    "directory = 'experiments/fair allocation in data market/traffic/'\n",
    "X_train_2 = X_m1m2_trn\n",
    "y_train_2 = y_m1m2_trn\n",
    "X_val = X_m1m2m3_val\n",
    "y_val = y_m1m2m3_val\n",
    "\n",
    "# Train knn classifier\n",
    "X_train_knn_gt_2 = get_true_KNN(X_train_2, X_val)"
   ]
  },
  {
   "cell_type": "code",
   "execution_count": 31,
   "id": "27b4cabe",
   "metadata": {},
   "outputs": [
    {
     "data": {
      "text/plain": [
       "((564, 978), (978,))"
      ]
     },
     "execution_count": 31,
     "metadata": {},
     "output_type": "execute_result"
    }
   ],
   "source": [
    "X_train_knn_gt_2.shape, y_train_2.shape # Sanity check"
   ]
  },
  {
   "cell_type": "code",
   "execution_count": 32,
   "id": "93bed660",
   "metadata": {},
   "outputs": [
    {
     "name": "stderr",
     "output_type": "stream",
     "text": [
      "100%|████████████████████████████████████████| 564/564 [00:01<00:00, 430.04it/s]"
     ]
    },
    {
     "name": "stdout",
     "output_type": "stream",
     "text": [
      "Time to compute the exact symmetric shapley values for all data: 1.316659927368164\n"
     ]
    },
    {
     "name": "stderr",
     "output_type": "stream",
     "text": [
      "\n"
     ]
    }
   ],
   "source": [
    "# Compute SV\n",
    "start = time.time()\n",
    "knn_shaps = compute_KNN_shapley(y_train_2, X_train_knn_gt_2, y_val, K)\n",
    "end = time.time()\n",
    "print(\"Time to compute the exact symmetric shapley values for all data:\", end - start)\n",
    "np.save(directory + 'm1m2_sv_K={}'.format(K), knn_shaps)"
   ]
  },
  {
   "cell_type": "code",
   "execution_count": 33,
   "id": "af43e012",
   "metadata": {},
   "outputs": [
    {
     "name": "stderr",
     "output_type": "stream",
     "text": [
      "100%|████████████████████████████████████████| 564/564 [00:03<00:00, 169.24it/s]\n",
      "100%|█████████████████████████████████████████| 564/564 [00:08<00:00, 64.00it/s]"
     ]
    },
    {
     "name": "stdout",
     "output_type": "stream",
     "text": [
      "Time to compute the exact asymmetric shapley values for all data: 12.149849891662598\n"
     ]
    },
    {
     "name": "stderr",
     "output_type": "stream",
     "text": [
      "\n"
     ]
    }
   ],
   "source": [
    "# Compute ASV\n",
    "s_class_dic = {0:np.asarray(range(len(X_train_1))), \n",
    "               1:np.asarray(range(len(X_train_1), len(X_train_2)))}\n",
    "\n",
    "start = time.time()\n",
    "knn_asym_shaps = compute_KNN_Asymmetric_Shapley(y_train_2, \n",
    "                                                X_train_knn_gt_2, \n",
    "                                                y_val, K, \n",
    "                                                s_class_dic)\n",
    "end = time.time()\n",
    "print(\"Time to compute the exact asymmetric shapley values for all data:\", end - start)\n",
    "np.save(directory + 'm1m2_asv_K={}'.format(K), knn_asym_shaps)"
   ]
  },
  {
   "cell_type": "markdown",
   "id": "648ef437",
   "metadata": {},
   "source": [
    "### 3.3"
   ]
  },
  {
   "cell_type": "code",
   "execution_count": 34,
   "id": "0f160918",
   "metadata": {},
   "outputs": [
    {
     "name": "stderr",
     "output_type": "stream",
     "text": [
      "100%|████████████████████████████████████████| 564/564 [00:01<00:00, 364.68it/s]\n"
     ]
    }
   ],
   "source": [
    "directory = 'experiments/fair allocation in data market/traffic/'\n",
    "X_train_3 = X_m1m2m3_trn\n",
    "y_train_3 = y_m1m2m3_trn\n",
    "X_val = X_m1m2m3_val\n",
    "y_val = y_m1m2m3_val\n",
    "\n",
    "# Train knn classifier\n",
    "X_train_knn_gt_3 = get_true_KNN(X_train_3, X_val)"
   ]
  },
  {
   "cell_type": "code",
   "execution_count": 35,
   "id": "df27f754",
   "metadata": {},
   "outputs": [
    {
     "data": {
      "text/plain": [
       "((564, 1312), (1312,))"
      ]
     },
     "execution_count": 35,
     "metadata": {},
     "output_type": "execute_result"
    }
   ],
   "source": [
    "X_train_knn_gt_3.shape, y_train_3.shape # Sanity check"
   ]
  },
  {
   "cell_type": "code",
   "execution_count": 36,
   "id": "01236fcf",
   "metadata": {},
   "outputs": [
    {
     "name": "stderr",
     "output_type": "stream",
     "text": [
      "100%|████████████████████████████████████████| 564/564 [00:01<00:00, 320.77it/s]"
     ]
    },
    {
     "name": "stdout",
     "output_type": "stream",
     "text": [
      "Time to compute the exact symmetric shapley values for all data: 1.7622368335723877\n"
     ]
    },
    {
     "name": "stderr",
     "output_type": "stream",
     "text": [
      "\n"
     ]
    }
   ],
   "source": [
    "# Compute SV\n",
    "start = time.time()\n",
    "knn_shaps = compute_KNN_shapley(y_train_3, X_train_knn_gt_3, y_val, K)\n",
    "end = time.time()\n",
    "print(\"Time to compute the exact symmetric shapley values for all data:\", end - start)\n",
    "np.save(directory + 'm1m2m3_sv_K={}'.format(K), knn_shaps)"
   ]
  },
  {
   "cell_type": "code",
   "execution_count": 37,
   "id": "5dbf9470",
   "metadata": {},
   "outputs": [
    {
     "name": "stderr",
     "output_type": "stream",
     "text": [
      "100%|████████████████████████████████████████| 564/564 [00:04<00:00, 139.95it/s]\n",
      "100%|█████████████████████████████████████████| 564/564 [00:11<00:00, 48.77it/s]\n",
      "100%|█████████████████████████████████████████| 564/564 [00:12<00:00, 44.56it/s]"
     ]
    },
    {
     "name": "stdout",
     "output_type": "stream",
     "text": [
      "Time to compute the exact asymmetric shapley values for all data: 28.255478143692017\n"
     ]
    },
    {
     "name": "stderr",
     "output_type": "stream",
     "text": [
      "\n"
     ]
    }
   ],
   "source": [
    "# Compute ASV\n",
    "s_class_dic = {0:np.asarray(range(len(X_train_1))), \n",
    "               1:np.asarray(range(len(X_train_1), len(X_train_2))),\n",
    "               2:np.asarray(range(len(X_train_2), len(X_train_3)))}\n",
    "\n",
    "start = time.time()\n",
    "knn_asym_shaps = compute_KNN_Asymmetric_Shapley(y_train_3, \n",
    "                                                X_train_knn_gt_3, \n",
    "                                                y_val, K, \n",
    "                                                s_class_dic)\n",
    "end = time.time()\n",
    "print(\"Time to compute the exact asymmetric shapley values for all data:\", end - start)\n",
    "np.save(directory + 'm1m2m3_asv_K={}'.format(K), knn_asym_shaps)"
   ]
  },
  {
   "cell_type": "markdown",
   "id": "8cb4938e",
   "metadata": {},
   "source": [
    "### 3.4"
   ]
  },
  {
   "cell_type": "code",
   "execution_count": 38,
   "id": "5a98e5e4",
   "metadata": {},
   "outputs": [],
   "source": [
    "# Load SV and ASV\n",
    "m1_sv = np.load(directory + 'm1_sv_K={}.npy'.format(K))\n",
    "m1_asv = np.load(directory + 'm1_asv_K={}.npy'.format(K))\n",
    "m1m2_sv = np.load(directory + 'm1m2_sv_K={}.npy'.format(K))\n",
    "m1m2_asv = np.load(directory + 'm1m2_asv_K={}.npy'.format(K))\n",
    "m1m2m3_sv = np.load(directory + 'm1m2m3_sv_K={}.npy'.format(K))\n",
    "m1m2m3_asv = np.load(directory + 'm1m2m3_asv_K={}.npy'.format(K))"
   ]
  },
  {
   "cell_type": "code",
   "execution_count": 39,
   "id": "08e2032c",
   "metadata": {},
   "outputs": [
    {
     "data": {
      "text/plain": [
       "(523, 978, 1312)"
      ]
     },
     "execution_count": 39,
     "metadata": {},
     "output_type": "execute_result"
    }
   ],
   "source": [
    "len(m1_sv), len(m1m2_sv), len(m1m2m3_sv)"
   ]
  },
  {
   "cell_type": "code",
   "execution_count": 40,
   "id": "b9086398",
   "metadata": {},
   "outputs": [],
   "source": [
    "import matplotlib.pyplot as plt\n",
    "import seaborn as sns\n",
    "\n",
    "fig_directory = 'experiments/fair allocation in data market/traffic/figures/'"
   ]
  },
  {
   "cell_type": "code",
   "execution_count": 41,
   "id": "1cfb6d63",
   "metadata": {},
   "outputs": [
    {
     "data": {
      "text/plain": [
       "(True, 0.8108747044917258, 0.8108747044917258)"
      ]
     },
     "execution_count": 41,
     "metadata": {},
     "output_type": "execute_result"
    }
   ],
   "source": [
    "# Sanity check\n",
    "\n",
    "all(m1_sv == m1_asv), sum(m1_sv), sum(m1_asv)"
   ]
  },
  {
   "cell_type": "code",
   "execution_count": 13,
   "id": "40c0998c",
   "metadata": {},
   "outputs": [
    {
     "data": {
      "text/plain": [
       "(0.8396825396825399, 0.8396825396825398)"
      ]
     },
     "execution_count": 13,
     "metadata": {},
     "output_type": "execute_result"
    }
   ],
   "source": [
    "# Sanity check\n",
    "\n",
    "sum(m1m2_sv), sum(m1m2_asv)"
   ]
  },
  {
   "cell_type": "code",
   "execution_count": 14,
   "id": "21952f99",
   "metadata": {},
   "outputs": [
    {
     "data": {
      "text/plain": [
       "array([0.00150913, 0.0027371 , 0.00193639, 0.00359214, 0.00233001,\n",
       "       0.00239239, 0.00198447, 0.00171606, 0.00172145, 0.00135127])"
      ]
     },
     "execution_count": 14,
     "metadata": {},
     "output_type": "execute_result"
    }
   ],
   "source": [
    "m1m2_asv[:10]"
   ]
  },
  {
   "cell_type": "code",
   "execution_count": 15,
   "id": "9049a6ff",
   "metadata": {},
   "outputs": [
    {
     "data": {
      "text/plain": [
       "array([0.00150916, 0.00273697, 0.00193639, 0.00359453, 0.00233023,\n",
       "       0.00241783, 0.0019845 , 0.00171606, 0.00172156, 0.00135153])"
      ]
     },
     "execution_count": 15,
     "metadata": {},
     "output_type": "execute_result"
    }
   ],
   "source": [
    "m1_sv[:10]"
   ]
  },
  {
   "cell_type": "code",
   "execution_count": 16,
   "id": "64d0455c",
   "metadata": {},
   "outputs": [],
   "source": [
    "g = [i for i in range(len(m1_sv))]\n",
    "\n",
    "# Rank sv from high to low\n",
    "m1_sv_idx = np.argsort(m1_sv)[::-1] \n",
    "m1_high_sv = m1_sv[m1_sv_idx]"
   ]
  },
  {
   "cell_type": "code",
   "execution_count": 17,
   "id": "7aa7a281",
   "metadata": {},
   "outputs": [
    {
     "data": {
      "image/png": "[encoded data removed]",
      "text/plain": [
       "<Figure size 640x480 with 1 Axes>"
      ]
     },
     "metadata": {},
     "output_type": "display_data"
    }
   ],
   "source": [
    "plt.bar(g, m1_high_sv, label='July data')\n",
    "plt.title('KNN Shapley of the July Traffic Data')\n",
    "plt.legend()\n",
    "plt.show()"
   ]
  },
  {
   "cell_type": "code",
   "execution_count": 51,
   "id": "8bf28022",
   "metadata": {},
   "outputs": [
    {
     "data": {
      "image/png": "[encoded data removed]",
      "text/plain": [
       "<Figure size 2000x500 with 2 Axes>"
      ]
     },
     "metadata": {},
     "output_type": "display_data"
    }
   ],
   "source": [
    "# Define the canvas\n",
    "fig, axs = plt.subplots(1, 2, figsize=(20, 5))\n",
    "\n",
    "categories = ['1st period data', '1st and 2nd period data', '1st, 2nd and 3rd period data']\n",
    "bar_width = 0.5\n",
    "\n",
    "# Heights of the bars in the first plot\n",
    "m1_svs = [sum(m1_sv), sum(m1m2_sv[:len(X_train_1)]), \n",
    "          sum(m1m2m3_sv[:len(X_train_1)])]\n",
    "m2_svs = [0, sum(m1m2_sv[len(X_train_1):]), sum(m1m2m3_sv[len(X_train_1):len(X_train_2)])]\n",
    "m3_svs = [0, 0, sum(m1m2m3_sv[len(X_train_2):len(X_train_3)])]\n",
    "\n",
    "# Positions of the bars on the x-axis\n",
    "r = np.arange(len(categories))\n",
    "\n",
    "# Create the stacked bar plot for the first subplot\n",
    "axs[0].bar(r, m1_svs, color='b', edgecolor='white', width=bar_width, \n",
    "           label='Sum of values of 1st period data')\n",
    "axs[0].bar(r, m2_svs, bottom=m1_svs, color='orange', edgecolor='white', width=bar_width, \n",
    "        label='Sum of values of 1st and 2nd period data')\n",
    "axs[0].bar(r, m3_svs, bottom=[i+j for i,j in zip(m1_svs, m2_svs)], \n",
    "        color='g', edgecolor='white', width=bar_width, \n",
    "           label='Sum of values of 1st, 2nd and 3rd period data')\n",
    "\n",
    "                    \n",
    "# Add labels, and legend for the first subplot\n",
    "axs[0].set_xlabel('Training dataset', fontweight='bold')\n",
    "axs[0].set_ylabel('KNN Shapley values', fontweight='bold')\n",
    "axs[0].set_ylim((0, 1))\n",
    "axs[0].set_xticks(r, categories)\n",
    "axs[0].legend(loc='upper left', fontsize=8)\n",
    "\n",
    "# Heights of the bars in the second plot\n",
    "m1_asvs = [sum(m1_asv), sum(m1m2_asv[:len(X_train_1)]), \n",
    "           sum(m1m2m3_asv[:len(X_train_1)])]\n",
    "m2_asvs = [0, sum(m1m2_asv[len(X_train_1):]), \n",
    "           sum(m1m2m3_asv[len(X_train_1):len(X_train_2)])]\n",
    "m3_asvs = [0, 0, sum(m1m2m3_asv[len(X_train_2):len(X_train_3)])]\n",
    "\n",
    "# Create the stacked bar plot for the second subplot\n",
    "axs[1].bar(r, m1_asvs, color='b', edgecolor='white', width=bar_width, \n",
    "           label='Sum of values of 1st period data')\n",
    "axs[1].bar(r, m2_asvs, bottom=m1_asvs, color='orange', edgecolor='white', width=bar_width, \n",
    "        label='Sum of values of 1st and 2nd period data')\n",
    "axs[1].bar(r, m3_asvs, bottom=[i+j for i,j in zip(m1_asvs, m2_asvs)], \n",
    "        color='g', edgecolor='white', width=bar_width, \n",
    "           label='Sum of values of 1st, 2nd and 3rd period data')\n",
    "                     \n",
    "# Add labels, and legend for the first subplot\n",
    "axs[1].set_xlabel('Training dataset', fontweight='bold')\n",
    "axs[1].set_ylabel('KNN Asymmetric Shapley values', fontweight='bold')\n",
    "axs[1].set_ylim((0, 1))\n",
    "axs[1].set_xticks(r, categories)\n",
    "\n",
    "# Add a single overarching title for the entire figure\n",
    "fig.suptitle('Allocation of Values to Data Contributors in a Sequantial Data Stream', \n",
    "             fontweight='bold', fontsize = 15)\n",
    "\n",
    "# Save figure\n",
    "plt.savefig(fig_directory + 'barplot_sequential_data.png')\n",
    "\n",
    "# Display the plot\n",
    "plt.show()"
   ]
  },
  {
   "cell_type": "code",
   "execution_count": null,
   "id": "8c3ccc42",
   "metadata": {},
   "outputs": [],
   "source": []
  }
 ],
 "metadata": {
  "kernelspec": {
   "display_name": "Python 3 (ipykernel)",
   "language": "python",
   "name": "python3"
  },
  "language_info": {
   "codemirror_mode": {
    "name": "ipython",
    "version": 3
   },
   "file_extension": ".py",
   "mimetype": "text/x-python",
   "name": "python",
   "nbconvert_exporter": "python",
   "pygments_lexer": "ipython3",
   "version": "3.11.7"
  }
 },
 "nbformat": 4,
 "nbformat_minor": 5
}
